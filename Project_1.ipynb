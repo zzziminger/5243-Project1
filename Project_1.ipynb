{
  "nbformat": 4,
  "nbformat_minor": 0,
  "metadata": {
    "colab": {
      "provenance": []
    },
    "kernelspec": {
      "name": "python3",
      "display_name": "Python 3"
    },
    "language_info": {
      "name": "python"
    }
  },
  "cells": [
    {
      "cell_type": "code",
      "execution_count": 1,
      "metadata": {
        "id": "RXs4wbqYuFOG"
      },
      "outputs": [],
      "source": [
        "import pandas as pd"
      ]
    },
    {
      "cell_type": "markdown",
      "source": [
        "## Data Acquisition"
      ],
      "metadata": {
        "id": "OwfAIYJe1iDi"
      }
    },
    {
      "cell_type": "code",
      "source": [
        "Collisions = pd.read_csv(\"NYC_Collisions.csv\")"
      ],
      "metadata": {
        "id": "nnQEmfxN1fXu"
      },
      "execution_count": 2,
      "outputs": []
    },
    {
      "cell_type": "code",
      "source": [
        "Weather = pd.read_csv(\"NYC_Weather_2016_2022.csv\")"
      ],
      "metadata": {
        "id": "lSwt8VcB1vCq"
      },
      "execution_count": 3,
      "outputs": []
    },
    {
      "cell_type": "markdown",
      "source": [
        "## Data Cleaning and Handling Inconsistencies"
      ],
      "metadata": {
        "id": "6LTHx0D11z03"
      }
    },
    {
      "cell_type": "code",
      "source": [],
      "metadata": {
        "id": "jwzGr_ZD1y6u"
      },
      "execution_count": null,
      "outputs": []
    }
  ]
}