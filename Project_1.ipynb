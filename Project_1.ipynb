{
  "cells": [
    {
      "cell_type": "markdown",
      "metadata": {
        "id": "OwfAIYJe1iDi"
      },
      "source": [
        "## Data Acquisition\n",
        "\n",
        "Used Kaggle to obtain data on New York City Weather and New York City collisions. We will be combining these two datasets to comapre collisions with weather. \n",
        "\n",
        "Weather dataset: https://www.kaggle.com/datasets/aadimator/nyc-weather-2016-to-2022 \n",
        "\n",
        "Collisions dataset: https://www.kaggle.com/datasets/amanaayush/nyc-traffic-accidents "
      ]
    },
    {
      "cell_type": "code",
      "execution_count": 37,
      "metadata": {},
      "outputs": [],
      "source": [
        "import pandas as pd\n",
        "import datetime "
      ]
    },
    {
      "cell_type": "code",
      "execution_count": 38,
      "metadata": {
        "id": "nnQEmfxN1fXu"
      },
      "outputs": [
        {
          "name": "stdout",
          "output_type": "stream",
          "text": [
            "\n",
            "    Collisions DataFrame shape: (238421, 18)\n",
            "    Weather DataFrame shape: (59760, 10)\n",
            "      \n"
          ]
        }
      ],
      "source": [
        "collisions = pd.read_csv(\"NYC_Collisions.csv.zip\")\n",
        "weather = pd.read_csv(\"NYC_Weather_2016_2022.csv.zip\")\n",
        "print(f\"\"\"\n",
        "    Collisions DataFrame shape: {collisions.shape}\n",
        "    Weather DataFrame shape: {weather.shape}\n",
        "      \"\"\")"
      ]
    },
    {
      "cell_type": "code",
      "execution_count": 39,
      "metadata": {},
      "outputs": [
        {
          "data": {
            "text/html": [
              "<div>\n",
              "<style scoped>\n",
              "    .dataframe tbody tr th:only-of-type {\n",
              "        vertical-align: middle;\n",
              "    }\n",
              "\n",
              "    .dataframe tbody tr th {\n",
              "        vertical-align: top;\n",
              "    }\n",
              "\n",
              "    .dataframe thead th {\n",
              "        text-align: right;\n",
              "    }\n",
              "</style>\n",
              "<table border=\"1\" class=\"dataframe\">\n",
              "  <thead>\n",
              "    <tr style=\"text-align: right;\">\n",
              "      <th></th>\n",
              "      <th>Collision ID</th>\n",
              "      <th>Date</th>\n",
              "      <th>Time</th>\n",
              "      <th>Borough</th>\n",
              "      <th>Street Name</th>\n",
              "      <th>Cross Street</th>\n",
              "      <th>Latitude</th>\n",
              "      <th>Longitude</th>\n",
              "      <th>Contributing Factor</th>\n",
              "      <th>Vehicle Type</th>\n",
              "      <th>Persons Injured</th>\n",
              "      <th>Persons Killed</th>\n",
              "      <th>Pedestrians Injured</th>\n",
              "      <th>Pedestrians Killed</th>\n",
              "      <th>Cyclists Injured</th>\n",
              "      <th>Cyclists Killed</th>\n",
              "      <th>Motorists Injured</th>\n",
              "      <th>Motorists Killed</th>\n",
              "    </tr>\n",
              "  </thead>\n",
              "  <tbody>\n",
              "    <tr>\n",
              "      <th>0</th>\n",
              "      <td>4491746</td>\n",
              "      <td>2021-01-01</td>\n",
              "      <td>20:00:00</td>\n",
              "      <td>Bronx</td>\n",
              "      <td>Bruckner Expressway</td>\n",
              "      <td>NaN</td>\n",
              "      <td>40.83398</td>\n",
              "      <td>-73.826350</td>\n",
              "      <td>Pavement Slippery</td>\n",
              "      <td>Passenger Vehicle</td>\n",
              "      <td>0.0</td>\n",
              "      <td>0</td>\n",
              "      <td>0</td>\n",
              "      <td>0</td>\n",
              "      <td>0</td>\n",
              "      <td>0</td>\n",
              "      <td>0</td>\n",
              "      <td>0</td>\n",
              "    </tr>\n",
              "    <tr>\n",
              "      <th>1</th>\n",
              "      <td>4441905</td>\n",
              "      <td>2021-01-01</td>\n",
              "      <td>05:28:00</td>\n",
              "      <td>Brooklyn</td>\n",
              "      <td>Lafayette Avenue</td>\n",
              "      <td>NaN</td>\n",
              "      <td>40.68730</td>\n",
              "      <td>-73.973656</td>\n",
              "      <td>Unspecified</td>\n",
              "      <td>Passenger Vehicle</td>\n",
              "      <td>0.0</td>\n",
              "      <td>0</td>\n",
              "      <td>0</td>\n",
              "      <td>0</td>\n",
              "      <td>0</td>\n",
              "      <td>0</td>\n",
              "      <td>0</td>\n",
              "      <td>0</td>\n",
              "    </tr>\n",
              "    <tr>\n",
              "      <th>2</th>\n",
              "      <td>4382769</td>\n",
              "      <td>2021-01-01</td>\n",
              "      <td>06:00:00</td>\n",
              "      <td>Staten Island</td>\n",
              "      <td>West Shore Expressway</td>\n",
              "      <td>NaN</td>\n",
              "      <td>NaN</td>\n",
              "      <td>NaN</td>\n",
              "      <td>Fell Asleep</td>\n",
              "      <td>Passenger Vehicle</td>\n",
              "      <td>0.0</td>\n",
              "      <td>0</td>\n",
              "      <td>0</td>\n",
              "      <td>0</td>\n",
              "      <td>0</td>\n",
              "      <td>0</td>\n",
              "      <td>0</td>\n",
              "      <td>0</td>\n",
              "    </tr>\n",
              "    <tr>\n",
              "      <th>3</th>\n",
              "      <td>4380949</td>\n",
              "      <td>2021-01-01</td>\n",
              "      <td>19:30:00</td>\n",
              "      <td>Bronx</td>\n",
              "      <td>Sedgwick Avenue</td>\n",
              "      <td>Vancortlandt Avenue West</td>\n",
              "      <td>40.88270</td>\n",
              "      <td>-73.892730</td>\n",
              "      <td>NaN</td>\n",
              "      <td>Not Reported</td>\n",
              "      <td>0.0</td>\n",
              "      <td>0</td>\n",
              "      <td>0</td>\n",
              "      <td>0</td>\n",
              "      <td>0</td>\n",
              "      <td>0</td>\n",
              "      <td>0</td>\n",
              "      <td>0</td>\n",
              "    </tr>\n",
              "    <tr>\n",
              "      <th>4</th>\n",
              "      <td>4380940</td>\n",
              "      <td>2021-01-01</td>\n",
              "      <td>07:40:00</td>\n",
              "      <td>Brooklyn</td>\n",
              "      <td>Cortelyou Road</td>\n",
              "      <td>Mc Donald Avenue</td>\n",
              "      <td>40.63791</td>\n",
              "      <td>-73.978640</td>\n",
              "      <td>Unspecified</td>\n",
              "      <td>Passenger Vehicle</td>\n",
              "      <td>0.0</td>\n",
              "      <td>0</td>\n",
              "      <td>0</td>\n",
              "      <td>0</td>\n",
              "      <td>0</td>\n",
              "      <td>0</td>\n",
              "      <td>0</td>\n",
              "      <td>0</td>\n",
              "    </tr>\n",
              "  </tbody>\n",
              "</table>\n",
              "</div>"
            ],
            "text/plain": [
              "   Collision ID        Date      Time        Borough            Street Name  \\\n",
              "0       4491746  2021-01-01  20:00:00          Bronx    Bruckner Expressway   \n",
              "1       4441905  2021-01-01  05:28:00       Brooklyn       Lafayette Avenue   \n",
              "2       4382769  2021-01-01  06:00:00  Staten Island  West Shore Expressway   \n",
              "3       4380949  2021-01-01  19:30:00          Bronx        Sedgwick Avenue   \n",
              "4       4380940  2021-01-01  07:40:00       Brooklyn         Cortelyou Road   \n",
              "\n",
              "               Cross Street  Latitude  Longitude Contributing Factor  \\\n",
              "0                       NaN  40.83398 -73.826350   Pavement Slippery   \n",
              "1                       NaN  40.68730 -73.973656         Unspecified   \n",
              "2                       NaN       NaN        NaN         Fell Asleep   \n",
              "3  Vancortlandt Avenue West  40.88270 -73.892730                 NaN   \n",
              "4          Mc Donald Avenue  40.63791 -73.978640         Unspecified   \n",
              "\n",
              "        Vehicle Type  Persons Injured  Persons Killed  Pedestrians Injured  \\\n",
              "0  Passenger Vehicle              0.0               0                    0   \n",
              "1  Passenger Vehicle              0.0               0                    0   \n",
              "2  Passenger Vehicle              0.0               0                    0   \n",
              "3       Not Reported              0.0               0                    0   \n",
              "4  Passenger Vehicle              0.0               0                    0   \n",
              "\n",
              "   Pedestrians Killed  Cyclists Injured  Cyclists Killed  Motorists Injured  \\\n",
              "0                   0                 0                0                  0   \n",
              "1                   0                 0                0                  0   \n",
              "2                   0                 0                0                  0   \n",
              "3                   0                 0                0                  0   \n",
              "4                   0                 0                0                  0   \n",
              "\n",
              "   Motorists Killed  \n",
              "0                 0  \n",
              "1                 0  \n",
              "2                 0  \n",
              "3                 0  \n",
              "4                 0  "
            ]
          },
          "execution_count": 39,
          "metadata": {},
          "output_type": "execute_result"
        }
      ],
      "source": [
        "collisions.head()"
      ]
    },
    {
      "cell_type": "code",
      "execution_count": 40,
      "metadata": {},
      "outputs": [
        {
          "data": {
            "text/html": [
              "<div>\n",
              "<style scoped>\n",
              "    .dataframe tbody tr th:only-of-type {\n",
              "        vertical-align: middle;\n",
              "    }\n",
              "\n",
              "    .dataframe tbody tr th {\n",
              "        vertical-align: top;\n",
              "    }\n",
              "\n",
              "    .dataframe thead th {\n",
              "        text-align: right;\n",
              "    }\n",
              "</style>\n",
              "<table border=\"1\" class=\"dataframe\">\n",
              "  <thead>\n",
              "    <tr style=\"text-align: right;\">\n",
              "      <th></th>\n",
              "      <th>time</th>\n",
              "      <th>temperature_2m (°C)</th>\n",
              "      <th>precipitation (mm)</th>\n",
              "      <th>rain (mm)</th>\n",
              "      <th>cloudcover (%)</th>\n",
              "      <th>cloudcover_low (%)</th>\n",
              "      <th>cloudcover_mid (%)</th>\n",
              "      <th>cloudcover_high (%)</th>\n",
              "      <th>windspeed_10m (km/h)</th>\n",
              "      <th>winddirection_10m (°)</th>\n",
              "    </tr>\n",
              "  </thead>\n",
              "  <tbody>\n",
              "    <tr>\n",
              "      <th>0</th>\n",
              "      <td>2016-01-01T00:00</td>\n",
              "      <td>7.6</td>\n",
              "      <td>0.0</td>\n",
              "      <td>0.0</td>\n",
              "      <td>69.0</td>\n",
              "      <td>53.0</td>\n",
              "      <td>0.0</td>\n",
              "      <td>72.0</td>\n",
              "      <td>10.0</td>\n",
              "      <td>296.0</td>\n",
              "    </tr>\n",
              "    <tr>\n",
              "      <th>1</th>\n",
              "      <td>2016-01-01T01:00</td>\n",
              "      <td>7.5</td>\n",
              "      <td>0.0</td>\n",
              "      <td>0.0</td>\n",
              "      <td>20.0</td>\n",
              "      <td>4.0</td>\n",
              "      <td>0.0</td>\n",
              "      <td>56.0</td>\n",
              "      <td>9.8</td>\n",
              "      <td>287.0</td>\n",
              "    </tr>\n",
              "    <tr>\n",
              "      <th>2</th>\n",
              "      <td>2016-01-01T02:00</td>\n",
              "      <td>7.1</td>\n",
              "      <td>0.0</td>\n",
              "      <td>0.0</td>\n",
              "      <td>32.0</td>\n",
              "      <td>3.0</td>\n",
              "      <td>0.0</td>\n",
              "      <td>99.0</td>\n",
              "      <td>9.7</td>\n",
              "      <td>285.0</td>\n",
              "    </tr>\n",
              "    <tr>\n",
              "      <th>3</th>\n",
              "      <td>2016-01-01T03:00</td>\n",
              "      <td>6.6</td>\n",
              "      <td>0.0</td>\n",
              "      <td>0.0</td>\n",
              "      <td>35.0</td>\n",
              "      <td>5.0</td>\n",
              "      <td>0.0</td>\n",
              "      <td>100.0</td>\n",
              "      <td>9.2</td>\n",
              "      <td>281.0</td>\n",
              "    </tr>\n",
              "    <tr>\n",
              "      <th>4</th>\n",
              "      <td>2016-01-01T04:00</td>\n",
              "      <td>6.3</td>\n",
              "      <td>0.0</td>\n",
              "      <td>0.0</td>\n",
              "      <td>34.0</td>\n",
              "      <td>4.0</td>\n",
              "      <td>0.0</td>\n",
              "      <td>100.0</td>\n",
              "      <td>9.1</td>\n",
              "      <td>279.0</td>\n",
              "    </tr>\n",
              "  </tbody>\n",
              "</table>\n",
              "</div>"
            ],
            "text/plain": [
              "               time  temperature_2m (°C)  precipitation (mm)  rain (mm)  \\\n",
              "0  2016-01-01T00:00                  7.6                 0.0        0.0   \n",
              "1  2016-01-01T01:00                  7.5                 0.0        0.0   \n",
              "2  2016-01-01T02:00                  7.1                 0.0        0.0   \n",
              "3  2016-01-01T03:00                  6.6                 0.0        0.0   \n",
              "4  2016-01-01T04:00                  6.3                 0.0        0.0   \n",
              "\n",
              "   cloudcover (%)  cloudcover_low (%)  cloudcover_mid (%)  \\\n",
              "0            69.0                53.0                 0.0   \n",
              "1            20.0                 4.0                 0.0   \n",
              "2            32.0                 3.0                 0.0   \n",
              "3            35.0                 5.0                 0.0   \n",
              "4            34.0                 4.0                 0.0   \n",
              "\n",
              "   cloudcover_high (%)  windspeed_10m (km/h)  winddirection_10m (°)  \n",
              "0                 72.0                  10.0                  296.0  \n",
              "1                 56.0                   9.8                  287.0  \n",
              "2                 99.0                   9.7                  285.0  \n",
              "3                100.0                   9.2                  281.0  \n",
              "4                100.0                   9.1                  279.0  "
            ]
          },
          "execution_count": 40,
          "metadata": {},
          "output_type": "execute_result"
        }
      ],
      "source": [
        "weather.head()"
      ]
    },
    {
      "cell_type": "code",
      "execution_count": 41,
      "metadata": {},
      "outputs": [
        {
          "data": {
            "text/plain": [
              "Collision ID             int64\n",
              "Date                    object\n",
              "Time                    object\n",
              "Borough                 object\n",
              "Street Name             object\n",
              "Cross Street            object\n",
              "Latitude               float64\n",
              "Longitude              float64\n",
              "Contributing Factor     object\n",
              "Vehicle Type            object\n",
              "Persons Injured        float64\n",
              "Persons Killed           int64\n",
              "Pedestrians Injured      int64\n",
              "Pedestrians Killed       int64\n",
              "Cyclists Injured         int64\n",
              "Cyclists Killed          int64\n",
              "Motorists Injured        int64\n",
              "Motorists Killed         int64\n",
              "dtype: object"
            ]
          },
          "execution_count": 41,
          "metadata": {},
          "output_type": "execute_result"
        }
      ],
      "source": [
        "collisions.dtypes"
      ]
    },
    {
      "cell_type": "code",
      "execution_count": 42,
      "metadata": {},
      "outputs": [
        {
          "data": {
            "text/plain": [
              "time                      object\n",
              "temperature_2m (°C)      float64\n",
              "precipitation (mm)       float64\n",
              "rain (mm)                float64\n",
              "cloudcover (%)           float64\n",
              "cloudcover_low (%)       float64\n",
              "cloudcover_mid (%)       float64\n",
              "cloudcover_high (%)      float64\n",
              "windspeed_10m (km/h)     float64\n",
              "winddirection_10m (°)    float64\n",
              "dtype: object"
            ]
          },
          "execution_count": 42,
          "metadata": {},
          "output_type": "execute_result"
        }
      ],
      "source": [
        "weather.dtypes"
      ]
    },
    {
      "cell_type": "markdown",
      "metadata": {},
      "source": [
        "Need to merge the two databases based on date. The *time* value in the *weather* database needs to be converted to date time and then seprated out the date and time. There is already a *Date* and *Time* column in the *collisions* database, so we can merge based on dates. "
      ]
    },
    {
      "cell_type": "code",
      "execution_count": 43,
      "metadata": {},
      "outputs": [
        {
          "data": {
            "text/plain": [
              "time                             object\n",
              "temperature_2m (°C)             float64\n",
              "precipitation (mm)              float64\n",
              "rain (mm)                       float64\n",
              "cloudcover (%)                  float64\n",
              "cloudcover_low (%)              float64\n",
              "cloudcover_mid (%)              float64\n",
              "cloudcover_high (%)             float64\n",
              "windspeed_10m (km/h)            float64\n",
              "winddirection_10m (°)           float64\n",
              "date                     datetime64[ns]\n",
              "dtype: object"
            ]
          },
          "execution_count": 43,
          "metadata": {},
          "output_type": "execute_result"
        }
      ],
      "source": [
        "#Add a new date column based on time column in datetime format\n",
        "weather['date'] = pd.to_datetime(weather['time'])\n",
        "weather.dtypes"
      ]
    },
    {
      "cell_type": "code",
      "execution_count": 44,
      "metadata": {},
      "outputs": [
        {
          "data": {
            "text/plain": [
              "time                      object\n",
              "temperature_2m (°C)      float64\n",
              "precipitation (mm)       float64\n",
              "rain (mm)                float64\n",
              "cloudcover (%)           float64\n",
              "cloudcover_low (%)       float64\n",
              "cloudcover_mid (%)       float64\n",
              "cloudcover_high (%)      float64\n",
              "windspeed_10m (km/h)     float64\n",
              "winddirection_10m (°)    float64\n",
              "date                      object\n",
              "dtype: object"
            ]
          },
          "execution_count": 44,
          "metadata": {},
          "output_type": "execute_result"
        }
      ],
      "source": [
        "#Extract the date and time from the date column\n",
        "weather['time'] = weather['date'].dt.time\n",
        "weather['date'] = weather['date'].dt.date\n",
        "weather.dtypes"
      ]
    },
    {
      "cell_type": "markdown",
      "metadata": {},
      "source": [
        "We might want to look at collisions in terms of time, but merging on date and time would mean many rows. We can separate out the times based on time of day (i.e. morning, midday, and night). This new column called *time_of_day* will be a categorial variable. This column will be morning for 2am to 10am, midday for 10am to 6pm, and night for 6pm to 2am. "
      ]
    },
    {
      "cell_type": "code",
      "execution_count": null,
      "metadata": {},
      "outputs": [
        {
          "ename": "SyntaxError",
          "evalue": "invalid syntax. Maybe you meant '==' or ':=' instead of '='? (4117684556.py, line 4)",
          "output_type": "error",
          "traceback": [
            "\u001b[1;36m  Cell \u001b[1;32mIn[49], line 4\u001b[1;36m\u001b[0m\n\u001b[1;33m    hour = (time.astype(str),format='%H:%M:%S').dt.hour\u001b[0m\n\u001b[1;37m                             ^\u001b[0m\n\u001b[1;31mSyntaxError\u001b[0m\u001b[1;31m:\u001b[0m invalid syntax. Maybe you meant '==' or ':=' instead of '='?\n"
          ]
        }
      ],
      "source": [
        "## is an error. Need to fix\n",
        "\n",
        "# Define a function to categorize time_of_day\n",
        "def categorize_time_of_day(time):\n",
        "    # Extract hour from the time object\n",
        "    hour = (time.astype(str),format='%H:%M:%S').dt.hour\n",
        "    if 2 <= hour < 10:\n",
        "        return 'morning'\n",
        "    elif 10 <= hour < 18:\n",
        "        return 'midday'\n",
        "    else:\n",
        "        return 'night'\n",
        "\n",
        "# Apply the function to the 'time' column to create the 'time_of_day' column\n",
        "weather['time_of_day'] = weather['time'].apply(categorize_time_of_day)"
      ]
    },
    {
      "cell_type": "markdown",
      "metadata": {
        "id": "6LTHx0D11z03"
      },
      "source": [
        "## Data Cleaning and Handling Inconsistencies"
      ]
    },
    {
      "cell_type": "code",
      "execution_count": null,
      "metadata": {
        "id": "jwzGr_ZD1y6u"
      },
      "outputs": [],
      "source": []
    },
    {
      "cell_type": "markdown",
      "metadata": {},
      "source": [
        "## Exploratory Data Analysis (EDA)"
      ]
    },
    {
      "cell_type": "markdown",
      "metadata": {},
      "source": [
        "## Data Preprocessing and Feature Engineering"
      ]
    }
  ],
  "metadata": {
    "colab": {
      "provenance": []
    },
    "kernelspec": {
      "display_name": "base",
      "language": "python",
      "name": "python3"
    },
    "language_info": {
      "codemirror_mode": {
        "name": "ipython",
        "version": 3
      },
      "file_extension": ".py",
      "mimetype": "text/x-python",
      "name": "python",
      "nbconvert_exporter": "python",
      "pygments_lexer": "ipython3",
      "version": "3.12.7"
    }
  },
  "nbformat": 4,
  "nbformat_minor": 0
}
