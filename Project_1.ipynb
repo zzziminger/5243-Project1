{
  "cells": [
    {
      "cell_type": "markdown",
      "metadata": {
        "id": "OwfAIYJe1iDi"
      },
      "source": [
        "## Data Acquisition\n",
        "\n",
        "Used Kaggle to obtain data on New York City Weather and New York City collisions. We will be combining these two datasets to comapre collisions with weather. \n",
        "\n",
        "Weather dataset: https://www.kaggle.com/datasets/aadimator/nyc-weather-2016-to-2022 \n",
        "\n",
        "Collisions dataset: https://www.kaggle.com/datasets/amanaayush/nyc-traffic-accidents "
      ]
    },
    {
      "cell_type": "code",
      "execution_count": 52,
      "metadata": {},
      "outputs": [],
      "source": [
        "import pandas as pd\n",
        "import datetime "
      ]
    },
    {
      "cell_type": "code",
      "execution_count": 53,
      "metadata": {
        "id": "nnQEmfxN1fXu"
      },
      "outputs": [
        {
          "name": "stdout",
          "output_type": "stream",
          "text": [
            "\n",
            "    Collisions DataFrame shape: (238421, 18)\n",
            "    Weather DataFrame shape: (59760, 10)\n",
            "      \n"
          ]
        }
      ],
      "source": [
        "collisions = pd.read_csv(\"NYC_Collisions.csv.zip\")\n",
        "weather = pd.read_csv(\"NYC_Weather_2016_2022.csv.zip\")\n",
        "print(f\"\"\"\n",
        "    Collisions DataFrame shape: {collisions.shape}\n",
        "    Weather DataFrame shape: {weather.shape}\n",
        "      \"\"\")"
      ]
    },
    {
      "cell_type": "code",
      "execution_count": 54,
      "metadata": {},
      "outputs": [
        {
          "data": {
            "text/html": [
              "<div>\n",
              "<style scoped>\n",
              "    .dataframe tbody tr th:only-of-type {\n",
              "        vertical-align: middle;\n",
              "    }\n",
              "\n",
              "    .dataframe tbody tr th {\n",
              "        vertical-align: top;\n",
              "    }\n",
              "\n",
              "    .dataframe thead th {\n",
              "        text-align: right;\n",
              "    }\n",
              "</style>\n",
              "<table border=\"1\" class=\"dataframe\">\n",
              "  <thead>\n",
              "    <tr style=\"text-align: right;\">\n",
              "      <th></th>\n",
              "      <th>Collision ID</th>\n",
              "      <th>Date</th>\n",
              "      <th>Time</th>\n",
              "      <th>Borough</th>\n",
              "      <th>Street Name</th>\n",
              "      <th>Cross Street</th>\n",
              "      <th>Latitude</th>\n",
              "      <th>Longitude</th>\n",
              "      <th>Contributing Factor</th>\n",
              "      <th>Vehicle Type</th>\n",
              "      <th>Persons Injured</th>\n",
              "      <th>Persons Killed</th>\n",
              "      <th>Pedestrians Injured</th>\n",
              "      <th>Pedestrians Killed</th>\n",
              "      <th>Cyclists Injured</th>\n",
              "      <th>Cyclists Killed</th>\n",
              "      <th>Motorists Injured</th>\n",
              "      <th>Motorists Killed</th>\n",
              "    </tr>\n",
              "  </thead>\n",
              "  <tbody>\n",
              "    <tr>\n",
              "      <th>0</th>\n",
              "      <td>4491746</td>\n",
              "      <td>2021-01-01</td>\n",
              "      <td>20:00:00</td>\n",
              "      <td>Bronx</td>\n",
              "      <td>Bruckner Expressway</td>\n",
              "      <td>NaN</td>\n",
              "      <td>40.83398</td>\n",
              "      <td>-73.826350</td>\n",
              "      <td>Pavement Slippery</td>\n",
              "      <td>Passenger Vehicle</td>\n",
              "      <td>0.0</td>\n",
              "      <td>0</td>\n",
              "      <td>0</td>\n",
              "      <td>0</td>\n",
              "      <td>0</td>\n",
              "      <td>0</td>\n",
              "      <td>0</td>\n",
              "      <td>0</td>\n",
              "    </tr>\n",
              "    <tr>\n",
              "      <th>1</th>\n",
              "      <td>4441905</td>\n",
              "      <td>2021-01-01</td>\n",
              "      <td>05:28:00</td>\n",
              "      <td>Brooklyn</td>\n",
              "      <td>Lafayette Avenue</td>\n",
              "      <td>NaN</td>\n",
              "      <td>40.68730</td>\n",
              "      <td>-73.973656</td>\n",
              "      <td>Unspecified</td>\n",
              "      <td>Passenger Vehicle</td>\n",
              "      <td>0.0</td>\n",
              "      <td>0</td>\n",
              "      <td>0</td>\n",
              "      <td>0</td>\n",
              "      <td>0</td>\n",
              "      <td>0</td>\n",
              "      <td>0</td>\n",
              "      <td>0</td>\n",
              "    </tr>\n",
              "    <tr>\n",
              "      <th>2</th>\n",
              "      <td>4382769</td>\n",
              "      <td>2021-01-01</td>\n",
              "      <td>06:00:00</td>\n",
              "      <td>Staten Island</td>\n",
              "      <td>West Shore Expressway</td>\n",
              "      <td>NaN</td>\n",
              "      <td>NaN</td>\n",
              "      <td>NaN</td>\n",
              "      <td>Fell Asleep</td>\n",
              "      <td>Passenger Vehicle</td>\n",
              "      <td>0.0</td>\n",
              "      <td>0</td>\n",
              "      <td>0</td>\n",
              "      <td>0</td>\n",
              "      <td>0</td>\n",
              "      <td>0</td>\n",
              "      <td>0</td>\n",
              "      <td>0</td>\n",
              "    </tr>\n",
              "    <tr>\n",
              "      <th>3</th>\n",
              "      <td>4380949</td>\n",
              "      <td>2021-01-01</td>\n",
              "      <td>19:30:00</td>\n",
              "      <td>Bronx</td>\n",
              "      <td>Sedgwick Avenue</td>\n",
              "      <td>Vancortlandt Avenue West</td>\n",
              "      <td>40.88270</td>\n",
              "      <td>-73.892730</td>\n",
              "      <td>NaN</td>\n",
              "      <td>Not Reported</td>\n",
              "      <td>0.0</td>\n",
              "      <td>0</td>\n",
              "      <td>0</td>\n",
              "      <td>0</td>\n",
              "      <td>0</td>\n",
              "      <td>0</td>\n",
              "      <td>0</td>\n",
              "      <td>0</td>\n",
              "    </tr>\n",
              "    <tr>\n",
              "      <th>4</th>\n",
              "      <td>4380940</td>\n",
              "      <td>2021-01-01</td>\n",
              "      <td>07:40:00</td>\n",
              "      <td>Brooklyn</td>\n",
              "      <td>Cortelyou Road</td>\n",
              "      <td>Mc Donald Avenue</td>\n",
              "      <td>40.63791</td>\n",
              "      <td>-73.978640</td>\n",
              "      <td>Unspecified</td>\n",
              "      <td>Passenger Vehicle</td>\n",
              "      <td>0.0</td>\n",
              "      <td>0</td>\n",
              "      <td>0</td>\n",
              "      <td>0</td>\n",
              "      <td>0</td>\n",
              "      <td>0</td>\n",
              "      <td>0</td>\n",
              "      <td>0</td>\n",
              "    </tr>\n",
              "  </tbody>\n",
              "</table>\n",
              "</div>"
            ],
            "text/plain": [
              "   Collision ID        Date      Time        Borough            Street Name  \\\n",
              "0       4491746  2021-01-01  20:00:00          Bronx    Bruckner Expressway   \n",
              "1       4441905  2021-01-01  05:28:00       Brooklyn       Lafayette Avenue   \n",
              "2       4382769  2021-01-01  06:00:00  Staten Island  West Shore Expressway   \n",
              "3       4380949  2021-01-01  19:30:00          Bronx        Sedgwick Avenue   \n",
              "4       4380940  2021-01-01  07:40:00       Brooklyn         Cortelyou Road   \n",
              "\n",
              "               Cross Street  Latitude  Longitude Contributing Factor  \\\n",
              "0                       NaN  40.83398 -73.826350   Pavement Slippery   \n",
              "1                       NaN  40.68730 -73.973656         Unspecified   \n",
              "2                       NaN       NaN        NaN         Fell Asleep   \n",
              "3  Vancortlandt Avenue West  40.88270 -73.892730                 NaN   \n",
              "4          Mc Donald Avenue  40.63791 -73.978640         Unspecified   \n",
              "\n",
              "        Vehicle Type  Persons Injured  Persons Killed  Pedestrians Injured  \\\n",
              "0  Passenger Vehicle              0.0               0                    0   \n",
              "1  Passenger Vehicle              0.0               0                    0   \n",
              "2  Passenger Vehicle              0.0               0                    0   \n",
              "3       Not Reported              0.0               0                    0   \n",
              "4  Passenger Vehicle              0.0               0                    0   \n",
              "\n",
              "   Pedestrians Killed  Cyclists Injured  Cyclists Killed  Motorists Injured  \\\n",
              "0                   0                 0                0                  0   \n",
              "1                   0                 0                0                  0   \n",
              "2                   0                 0                0                  0   \n",
              "3                   0                 0                0                  0   \n",
              "4                   0                 0                0                  0   \n",
              "\n",
              "   Motorists Killed  \n",
              "0                 0  \n",
              "1                 0  \n",
              "2                 0  \n",
              "3                 0  \n",
              "4                 0  "
            ]
          },
          "execution_count": 54,
          "metadata": {},
          "output_type": "execute_result"
        }
      ],
      "source": [
        "collisions.head()"
      ]
    },
    {
      "cell_type": "code",
      "execution_count": 55,
      "metadata": {},
      "outputs": [
        {
          "data": {
            "text/html": [
              "<div>\n",
              "<style scoped>\n",
              "    .dataframe tbody tr th:only-of-type {\n",
              "        vertical-align: middle;\n",
              "    }\n",
              "\n",
              "    .dataframe tbody tr th {\n",
              "        vertical-align: top;\n",
              "    }\n",
              "\n",
              "    .dataframe thead th {\n",
              "        text-align: right;\n",
              "    }\n",
              "</style>\n",
              "<table border=\"1\" class=\"dataframe\">\n",
              "  <thead>\n",
              "    <tr style=\"text-align: right;\">\n",
              "      <th></th>\n",
              "      <th>time</th>\n",
              "      <th>temperature_2m (°C)</th>\n",
              "      <th>precipitation (mm)</th>\n",
              "      <th>rain (mm)</th>\n",
              "      <th>cloudcover (%)</th>\n",
              "      <th>cloudcover_low (%)</th>\n",
              "      <th>cloudcover_mid (%)</th>\n",
              "      <th>cloudcover_high (%)</th>\n",
              "      <th>windspeed_10m (km/h)</th>\n",
              "      <th>winddirection_10m (°)</th>\n",
              "    </tr>\n",
              "  </thead>\n",
              "  <tbody>\n",
              "    <tr>\n",
              "      <th>0</th>\n",
              "      <td>2016-01-01T00:00</td>\n",
              "      <td>7.6</td>\n",
              "      <td>0.0</td>\n",
              "      <td>0.0</td>\n",
              "      <td>69.0</td>\n",
              "      <td>53.0</td>\n",
              "      <td>0.0</td>\n",
              "      <td>72.0</td>\n",
              "      <td>10.0</td>\n",
              "      <td>296.0</td>\n",
              "    </tr>\n",
              "    <tr>\n",
              "      <th>1</th>\n",
              "      <td>2016-01-01T01:00</td>\n",
              "      <td>7.5</td>\n",
              "      <td>0.0</td>\n",
              "      <td>0.0</td>\n",
              "      <td>20.0</td>\n",
              "      <td>4.0</td>\n",
              "      <td>0.0</td>\n",
              "      <td>56.0</td>\n",
              "      <td>9.8</td>\n",
              "      <td>287.0</td>\n",
              "    </tr>\n",
              "    <tr>\n",
              "      <th>2</th>\n",
              "      <td>2016-01-01T02:00</td>\n",
              "      <td>7.1</td>\n",
              "      <td>0.0</td>\n",
              "      <td>0.0</td>\n",
              "      <td>32.0</td>\n",
              "      <td>3.0</td>\n",
              "      <td>0.0</td>\n",
              "      <td>99.0</td>\n",
              "      <td>9.7</td>\n",
              "      <td>285.0</td>\n",
              "    </tr>\n",
              "    <tr>\n",
              "      <th>3</th>\n",
              "      <td>2016-01-01T03:00</td>\n",
              "      <td>6.6</td>\n",
              "      <td>0.0</td>\n",
              "      <td>0.0</td>\n",
              "      <td>35.0</td>\n",
              "      <td>5.0</td>\n",
              "      <td>0.0</td>\n",
              "      <td>100.0</td>\n",
              "      <td>9.2</td>\n",
              "      <td>281.0</td>\n",
              "    </tr>\n",
              "    <tr>\n",
              "      <th>4</th>\n",
              "      <td>2016-01-01T04:00</td>\n",
              "      <td>6.3</td>\n",
              "      <td>0.0</td>\n",
              "      <td>0.0</td>\n",
              "      <td>34.0</td>\n",
              "      <td>4.0</td>\n",
              "      <td>0.0</td>\n",
              "      <td>100.0</td>\n",
              "      <td>9.1</td>\n",
              "      <td>279.0</td>\n",
              "    </tr>\n",
              "  </tbody>\n",
              "</table>\n",
              "</div>"
            ],
            "text/plain": [
              "               time  temperature_2m (°C)  precipitation (mm)  rain (mm)  \\\n",
              "0  2016-01-01T00:00                  7.6                 0.0        0.0   \n",
              "1  2016-01-01T01:00                  7.5                 0.0        0.0   \n",
              "2  2016-01-01T02:00                  7.1                 0.0        0.0   \n",
              "3  2016-01-01T03:00                  6.6                 0.0        0.0   \n",
              "4  2016-01-01T04:00                  6.3                 0.0        0.0   \n",
              "\n",
              "   cloudcover (%)  cloudcover_low (%)  cloudcover_mid (%)  \\\n",
              "0            69.0                53.0                 0.0   \n",
              "1            20.0                 4.0                 0.0   \n",
              "2            32.0                 3.0                 0.0   \n",
              "3            35.0                 5.0                 0.0   \n",
              "4            34.0                 4.0                 0.0   \n",
              "\n",
              "   cloudcover_high (%)  windspeed_10m (km/h)  winddirection_10m (°)  \n",
              "0                 72.0                  10.0                  296.0  \n",
              "1                 56.0                   9.8                  287.0  \n",
              "2                 99.0                   9.7                  285.0  \n",
              "3                100.0                   9.2                  281.0  \n",
              "4                100.0                   9.1                  279.0  "
            ]
          },
          "execution_count": 55,
          "metadata": {},
          "output_type": "execute_result"
        }
      ],
      "source": [
        "weather.head()"
      ]
    },
    {
      "cell_type": "code",
      "execution_count": 56,
      "metadata": {},
      "outputs": [
        {
          "data": {
            "text/plain": [
              "Collision ID             int64\n",
              "Date                    object\n",
              "Time                    object\n",
              "Borough                 object\n",
              "Street Name             object\n",
              "Cross Street            object\n",
              "Latitude               float64\n",
              "Longitude              float64\n",
              "Contributing Factor     object\n",
              "Vehicle Type            object\n",
              "Persons Injured        float64\n",
              "Persons Killed           int64\n",
              "Pedestrians Injured      int64\n",
              "Pedestrians Killed       int64\n",
              "Cyclists Injured         int64\n",
              "Cyclists Killed          int64\n",
              "Motorists Injured        int64\n",
              "Motorists Killed         int64\n",
              "dtype: object"
            ]
          },
          "execution_count": 56,
          "metadata": {},
          "output_type": "execute_result"
        }
      ],
      "source": [
        "collisions.dtypes"
      ]
    },
    {
      "cell_type": "code",
      "execution_count": 57,
      "metadata": {},
      "outputs": [
        {
          "data": {
            "text/plain": [
              "time                      object\n",
              "temperature_2m (°C)      float64\n",
              "precipitation (mm)       float64\n",
              "rain (mm)                float64\n",
              "cloudcover (%)           float64\n",
              "cloudcover_low (%)       float64\n",
              "cloudcover_mid (%)       float64\n",
              "cloudcover_high (%)      float64\n",
              "windspeed_10m (km/h)     float64\n",
              "winddirection_10m (°)    float64\n",
              "dtype: object"
            ]
          },
          "execution_count": 57,
          "metadata": {},
          "output_type": "execute_result"
        }
      ],
      "source": [
        "weather.dtypes"
      ]
    },
    {
      "cell_type": "markdown",
      "metadata": {},
      "source": [
        "Need to merge the two databases based on date. The `time` value in the `weather` database needs to be converted to date time and then seprated out the date and time. There is already a `Date` and `Time` column in the `collisions` database, so we can merge based on dates. "
      ]
    },
    {
      "cell_type": "code",
      "execution_count": 58,
      "metadata": {},
      "outputs": [],
      "source": [
        "#Add a new date column based on time column in datetime format\n",
        "weather['date'] = pd.to_datetime(weather['time'])\n",
        "collisions['Date'] = pd.to_datetime(collisions['Date'])"
      ]
    },
    {
      "cell_type": "code",
      "execution_count": 59,
      "metadata": {},
      "outputs": [
        {
          "data": {
            "text/plain": [
              "time                             object\n",
              "temperature_2m (°C)             float64\n",
              "precipitation (mm)              float64\n",
              "rain (mm)                       float64\n",
              "cloudcover (%)                  float64\n",
              "cloudcover_low (%)              float64\n",
              "cloudcover_mid (%)              float64\n",
              "cloudcover_high (%)             float64\n",
              "windspeed_10m (km/h)            float64\n",
              "winddirection_10m (°)           float64\n",
              "date                     datetime64[ns]\n",
              "dtype: object"
            ]
          },
          "execution_count": 59,
          "metadata": {},
          "output_type": "execute_result"
        }
      ],
      "source": [
        "#Extract the date and time from the date column\n",
        "weather['time'] = weather['date'].dt.time\n",
        "weather['date'] = pd.to_datetime(weather['date'].dt.date)\n",
        "weather.dtypes"
      ]
    },
    {
      "cell_type": "markdown",
      "metadata": {},
      "source": [
        "We might want to look at collisions in terms of time, but merging on date and time would mean many rows. We can separate out the times based on time of day (i.e. morning, midday, and night). This new column called `time_of_day` will be a categorial variable. This column will be morning for 2am to 10am, midday for 10am to 6pm, and night for 6pm to 2am. "
      ]
    },
    {
      "cell_type": "code",
      "execution_count": 60,
      "metadata": {},
      "outputs": [],
      "source": [
        "# Define a function to categorize time_of_day\n",
        "def categorize_time_of_day(time):\n",
        "    # Extract hour from the time object\n",
        "    hour = int(str(time)[:2])\n",
        "    if 2 <= hour < 10:\n",
        "        return 'morning'\n",
        "    elif 10 <= hour < 18:\n",
        "        return 'midday'\n",
        "    else:\n",
        "        return 'night'"
      ]
    },
    {
      "cell_type": "code",
      "execution_count": 61,
      "metadata": {},
      "outputs": [],
      "source": [
        "# Apply the function to the 'time' column to create the 'time_of_day' column\n",
        "weather['time_of_day'] = weather['time'].apply(categorize_time_of_day)\n",
        "collisions['time_of_day'] = collisions['Time'].apply(categorize_time_of_day)"
      ]
    },
    {
      "cell_type": "markdown",
      "metadata": {},
      "source": [
        "### Merge data"
      ]
    },
    {
      "cell_type": "code",
      "execution_count": 80,
      "metadata": {},
      "outputs": [
        {
          "name": "stdout",
          "output_type": "stream",
          "text": [
            "Most recent date in collisions data: 2023-04-09\n",
            "Oldest date in collisions data: 2021-01-01\n",
            "\n"
          ]
        }
      ],
      "source": [
        "print(\n",
        "    f\"\"\"Most recent date in collisions data: {collisions.sort_values(by='Date', ascending=False)['Date'].iloc[0].date()}\n",
        "Oldest date in collisions data: {collisions.sort_values(by='Date')['Date'].iloc[0].date()}\n",
        "\"\"\")"
      ]
    },
    {
      "cell_type": "code",
      "execution_count": 81,
      "metadata": {},
      "outputs": [
        {
          "name": "stdout",
          "output_type": "stream",
          "text": [
            "Most recent date in weather data: 2022-10-25\n",
            "Oldest date in weather data: 2016-01-01\n",
            "\n"
          ]
        }
      ],
      "source": [
        "print(\n",
        "    f\"\"\"Most recent date in weather data: {weather.sort_values(by='date', ascending=False)['date'].iloc[0].date()}\n",
        "Oldest date in weather data: {weather.sort_values(by='date')['date'].iloc[0].date()}\n",
        "\"\"\")"
      ]
    },
    {
      "cell_type": "markdown",
      "metadata": {},
      "source": [
        "Based on the oldest and most recent dates in both databases, we can use dates from 1/1/2021 to 10/25/2022. Weather is taken every hour during the day. "
      ]
    },
    {
      "cell_type": "code",
      "execution_count": null,
      "metadata": {},
      "outputs": [
        {
          "data": {
            "text/plain": [
              "Date\n",
              "2016-01-01    24\n",
              "2016-01-02    24\n",
              "2016-01-03    24\n",
              "2016-01-04    24\n",
              "2016-01-05    24\n",
              "              ..\n",
              "2022-10-21    24\n",
              "2022-10-22    24\n",
              "2022-10-23    24\n",
              "2022-10-24    24\n",
              "2022-10-25    24\n",
              "Name: count, Length: 2490, dtype: int64"
            ]
          },
          "execution_count": 86,
          "metadata": {},
          "output_type": "execute_result"
        }
      ],
      "source": [
        "weather['date'].value_counts().sort_index()"
      ]
    },
    {
      "cell_type": "code",
      "execution_count": 93,
      "metadata": {},
      "outputs": [
        {
          "data": {
            "text/plain": [
              "Index(['time', 'temperature_2m (°C)', 'precipitation (mm)', 'rain (mm)',\n",
              "       'cloudcover (%)', 'cloudcover_low (%)', 'cloudcover_mid (%)',\n",
              "       'cloudcover_high (%)', 'windspeed_10m (km/h)', 'winddirection_10m (°)',\n",
              "       'date', 'time_of_day', 'Date'],\n",
              "      dtype='object')"
            ]
          },
          "execution_count": 93,
          "metadata": {},
          "output_type": "execute_result"
        }
      ],
      "source": [
        "weather.columns"
      ]
    },
    {
      "cell_type": "code",
      "execution_count": 96,
      "metadata": {},
      "outputs": [],
      "source": [
        "#Create an aggergated weather dataframe with the average values for each day separted by time of day\n",
        "weather_avg = weather.groupby(['date', 'time_of_day']).agg({\n",
        "    'temperature_2m (°C)':'mean',\n",
        "    'precipitation (mm)':'mean',\n",
        "    'rain (mm)':'mean',\n",
        "    'cloudcover (%)':'mean',\n",
        "    'cloudcover_low (%)':'mean',\n",
        "    'cloudcover_mid (%)':'mean',\n",
        "    'cloudcover_high (%)':'mean', \n",
        "    'windspeed_10m (km/h)':'mean',\n",
        "    'winddirection_10m (°)':'mean'\n",
        "}).reset_index()\n",
        "weather_avg.sort_values(by='date',inplace=True)\n"
      ]
    },
    {
      "cell_type": "code",
      "execution_count": 101,
      "metadata": {},
      "outputs": [],
      "source": [
        "#Merge data on date and ttime_of_day\n",
        "collisions['date'] = collisions['Date']\n",
        "\n",
        "merged_data = pd.merge(collisions, weather_avg, on=['date','time_of_day'], how='inner').sort_values(by='date').reset_index(drop=True)"
      ]
    },
    {
      "cell_type": "code",
      "execution_count": 103,
      "metadata": {},
      "outputs": [
        {
          "data": {
            "text/plain": [
              "Index(['Collision ID', 'Date', 'Time', 'Borough', 'Street Name',\n",
              "       'Cross Street', 'Latitude', 'Longitude', 'Contributing Factor',\n",
              "       'Vehicle Type', 'Persons Injured', 'Persons Killed',\n",
              "       'Pedestrians Injured', 'Pedestrians Killed', 'Cyclists Injured',\n",
              "       'Cyclists Killed', 'Motorists Injured', 'Motorists Killed',\n",
              "       'time_of_day', 'date', 'temperature_2m (°C)', 'precipitation (mm)',\n",
              "       'rain (mm)', 'cloudcover (%)', 'cloudcover_low (%)',\n",
              "       'cloudcover_mid (%)', 'cloudcover_high (%)', 'windspeed_10m (km/h)',\n",
              "       'winddirection_10m (°)'],\n",
              "      dtype='object')"
            ]
          },
          "execution_count": 103,
          "metadata": {},
          "output_type": "execute_result"
        }
      ],
      "source": [
        "merged_data.columns"
      ]
    },
    {
      "cell_type": "code",
      "execution_count": null,
      "metadata": {},
      "outputs": [],
      "source": [
        "#only keep the columns we need\n",
        "merged_data = merged_data[['date','time_of_day','Collision ID','Borough','Contributing Factor','Persons Injured','Persons Killed','Pedestrians Injured','Pedestrians Killed','Cyclists Injured',\n",
        "       'Cyclists Killed', 'Motorists Injured', 'Motorists Killed','temperature_2m (°C)','precipitation (mm)','rain (mm)','cloudcover (%)','cloudcover_low (%)','cloudcover_mid (%)','cloudcover_high (%)','windspeed_10m (km/h)','winddirection_10m (°)']]"
      ]
    },
    {
      "cell_type": "code",
      "execution_count": 106,
      "metadata": {},
      "outputs": [
        {
          "data": {
            "text/html": [
              "<div>\n",
              "<style scoped>\n",
              "    .dataframe tbody tr th:only-of-type {\n",
              "        vertical-align: middle;\n",
              "    }\n",
              "\n",
              "    .dataframe tbody tr th {\n",
              "        vertical-align: top;\n",
              "    }\n",
              "\n",
              "    .dataframe thead th {\n",
              "        text-align: right;\n",
              "    }\n",
              "</style>\n",
              "<table border=\"1\" class=\"dataframe\">\n",
              "  <thead>\n",
              "    <tr style=\"text-align: right;\">\n",
              "      <th></th>\n",
              "      <th>date</th>\n",
              "      <th>time_of_day</th>\n",
              "      <th>Collision ID</th>\n",
              "      <th>Borough</th>\n",
              "      <th>Contributing Factor</th>\n",
              "      <th>Persons Injured</th>\n",
              "      <th>Persons Killed</th>\n",
              "      <th>Pedestrians Injured</th>\n",
              "      <th>Pedestrians Killed</th>\n",
              "      <th>Cyclists Injured</th>\n",
              "      <th>...</th>\n",
              "      <th>Motorists Killed</th>\n",
              "      <th>temperature_2m (°C)</th>\n",
              "      <th>precipitation (mm)</th>\n",
              "      <th>rain (mm)</th>\n",
              "      <th>cloudcover (%)</th>\n",
              "      <th>cloudcover_low (%)</th>\n",
              "      <th>cloudcover_mid (%)</th>\n",
              "      <th>cloudcover_high (%)</th>\n",
              "      <th>windspeed_10m (km/h)</th>\n",
              "      <th>winddirection_10m (°)</th>\n",
              "    </tr>\n",
              "  </thead>\n",
              "  <tbody>\n",
              "    <tr>\n",
              "      <th>0</th>\n",
              "      <td>2021-01-01</td>\n",
              "      <td>night</td>\n",
              "      <td>4491746</td>\n",
              "      <td>Bronx</td>\n",
              "      <td>Pavement Slippery</td>\n",
              "      <td>0.0</td>\n",
              "      <td>0</td>\n",
              "      <td>0</td>\n",
              "      <td>0</td>\n",
              "      <td>0</td>\n",
              "      <td>...</td>\n",
              "      <td>0</td>\n",
              "      <td>3.1375</td>\n",
              "      <td>0.125</td>\n",
              "      <td>0.125</td>\n",
              "      <td>94.875</td>\n",
              "      <td>14.250</td>\n",
              "      <td>95.625</td>\n",
              "      <td>99.50</td>\n",
              "      <td>7.9625</td>\n",
              "      <td>145.375</td>\n",
              "    </tr>\n",
              "    <tr>\n",
              "      <th>1</th>\n",
              "      <td>2021-01-01</td>\n",
              "      <td>midday</td>\n",
              "      <td>4381244</td>\n",
              "      <td>Manhattan</td>\n",
              "      <td>Unsafe Speed</td>\n",
              "      <td>0.0</td>\n",
              "      <td>0</td>\n",
              "      <td>0</td>\n",
              "      <td>0</td>\n",
              "      <td>0</td>\n",
              "      <td>...</td>\n",
              "      <td>0</td>\n",
              "      <td>-1.3375</td>\n",
              "      <td>0.000</td>\n",
              "      <td>0.000</td>\n",
              "      <td>28.625</td>\n",
              "      <td>0.875</td>\n",
              "      <td>2.750</td>\n",
              "      <td>87.25</td>\n",
              "      <td>6.9375</td>\n",
              "      <td>47.375</td>\n",
              "    </tr>\n",
              "    <tr>\n",
              "      <th>2</th>\n",
              "      <td>2021-01-01</td>\n",
              "      <td>midday</td>\n",
              "      <td>4380799</td>\n",
              "      <td>Queens</td>\n",
              "      <td>Driver Inattention/Distraction</td>\n",
              "      <td>1.0</td>\n",
              "      <td>0</td>\n",
              "      <td>0</td>\n",
              "      <td>0</td>\n",
              "      <td>0</td>\n",
              "      <td>...</td>\n",
              "      <td>0</td>\n",
              "      <td>-1.3375</td>\n",
              "      <td>0.000</td>\n",
              "      <td>0.000</td>\n",
              "      <td>28.625</td>\n",
              "      <td>0.875</td>\n",
              "      <td>2.750</td>\n",
              "      <td>87.25</td>\n",
              "      <td>6.9375</td>\n",
              "      <td>47.375</td>\n",
              "    </tr>\n",
              "    <tr>\n",
              "      <th>3</th>\n",
              "      <td>2021-01-01</td>\n",
              "      <td>night</td>\n",
              "      <td>4381095</td>\n",
              "      <td>Brooklyn</td>\n",
              "      <td>Unspecified</td>\n",
              "      <td>0.0</td>\n",
              "      <td>0</td>\n",
              "      <td>0</td>\n",
              "      <td>0</td>\n",
              "      <td>0</td>\n",
              "      <td>...</td>\n",
              "      <td>0</td>\n",
              "      <td>3.1375</td>\n",
              "      <td>0.125</td>\n",
              "      <td>0.125</td>\n",
              "      <td>94.875</td>\n",
              "      <td>14.250</td>\n",
              "      <td>95.625</td>\n",
              "      <td>99.50</td>\n",
              "      <td>7.9625</td>\n",
              "      <td>145.375</td>\n",
              "    </tr>\n",
              "    <tr>\n",
              "      <th>4</th>\n",
              "      <td>2021-01-01</td>\n",
              "      <td>morning</td>\n",
              "      <td>4380755</td>\n",
              "      <td>Queens</td>\n",
              "      <td>Unspecified</td>\n",
              "      <td>0.0</td>\n",
              "      <td>0</td>\n",
              "      <td>0</td>\n",
              "      <td>0</td>\n",
              "      <td>0</td>\n",
              "      <td>...</td>\n",
              "      <td>0</td>\n",
              "      <td>0.3875</td>\n",
              "      <td>0.000</td>\n",
              "      <td>0.000</td>\n",
              "      <td>21.750</td>\n",
              "      <td>0.000</td>\n",
              "      <td>1.125</td>\n",
              "      <td>70.00</td>\n",
              "      <td>7.9375</td>\n",
              "      <td>339.375</td>\n",
              "    </tr>\n",
              "  </tbody>\n",
              "</table>\n",
              "<p>5 rows × 22 columns</p>\n",
              "</div>"
            ],
            "text/plain": [
              "        date time_of_day  Collision ID    Borough  \\\n",
              "0 2021-01-01       night       4491746      Bronx   \n",
              "1 2021-01-01      midday       4381244  Manhattan   \n",
              "2 2021-01-01      midday       4380799     Queens   \n",
              "3 2021-01-01       night       4381095   Brooklyn   \n",
              "4 2021-01-01     morning       4380755     Queens   \n",
              "\n",
              "              Contributing Factor  Persons Injured  Persons Killed  \\\n",
              "0               Pavement Slippery              0.0               0   \n",
              "1                    Unsafe Speed              0.0               0   \n",
              "2  Driver Inattention/Distraction              1.0               0   \n",
              "3                     Unspecified              0.0               0   \n",
              "4                     Unspecified              0.0               0   \n",
              "\n",
              "   Pedestrians Injured  Pedestrians Killed  Cyclists Injured  ...  \\\n",
              "0                    0                   0                 0  ...   \n",
              "1                    0                   0                 0  ...   \n",
              "2                    0                   0                 0  ...   \n",
              "3                    0                   0                 0  ...   \n",
              "4                    0                   0                 0  ...   \n",
              "\n",
              "   Motorists Killed  temperature_2m (°C)  precipitation (mm)  rain (mm)  \\\n",
              "0                 0               3.1375               0.125      0.125   \n",
              "1                 0              -1.3375               0.000      0.000   \n",
              "2                 0              -1.3375               0.000      0.000   \n",
              "3                 0               3.1375               0.125      0.125   \n",
              "4                 0               0.3875               0.000      0.000   \n",
              "\n",
              "   cloudcover (%)  cloudcover_low (%)  cloudcover_mid (%)  \\\n",
              "0          94.875              14.250              95.625   \n",
              "1          28.625               0.875               2.750   \n",
              "2          28.625               0.875               2.750   \n",
              "3          94.875              14.250              95.625   \n",
              "4          21.750               0.000               1.125   \n",
              "\n",
              "   cloudcover_high (%)  windspeed_10m (km/h)  winddirection_10m (°)  \n",
              "0                99.50                7.9625                145.375  \n",
              "1                87.25                6.9375                 47.375  \n",
              "2                87.25                6.9375                 47.375  \n",
              "3                99.50                7.9625                145.375  \n",
              "4                70.00                7.9375                339.375  \n",
              "\n",
              "[5 rows x 22 columns]"
            ]
          },
          "execution_count": 106,
          "metadata": {},
          "output_type": "execute_result"
        }
      ],
      "source": [
        "merged_data.head()"
      ]
    },
    {
      "cell_type": "markdown",
      "metadata": {
        "id": "6LTHx0D11z03"
      },
      "source": [
        "## Data Cleaning and Handling Inconsistencies"
      ]
    },
    {
      "cell_type": "code",
      "execution_count": null,
      "metadata": {
        "id": "jwzGr_ZD1y6u"
      },
      "outputs": [],
      "source": []
    },
    {
      "cell_type": "markdown",
      "metadata": {},
      "source": [
        "## Exploratory Data Analysis (EDA)"
      ]
    },
    {
      "cell_type": "markdown",
      "metadata": {},
      "source": [
        "## Data Preprocessing and Feature Engineering"
      ]
    }
  ],
  "metadata": {
    "colab": {
      "provenance": []
    },
    "kernelspec": {
      "display_name": "base",
      "language": "python",
      "name": "python3"
    },
    "language_info": {
      "codemirror_mode": {
        "name": "ipython",
        "version": 3
      },
      "file_extension": ".py",
      "mimetype": "text/x-python",
      "name": "python",
      "nbconvert_exporter": "python",
      "pygments_lexer": "ipython3",
      "version": "3.12.7"
    }
  },
  "nbformat": 4,
  "nbformat_minor": 0
}
